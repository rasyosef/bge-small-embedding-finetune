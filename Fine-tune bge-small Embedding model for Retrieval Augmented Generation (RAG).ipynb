{
  "nbformat": 4,
  "nbformat_minor": 0,
  "metadata": {
    "colab": {
      "provenance": [],
      "gpuType": "T4"
    },
    "kernelspec": {
      "name": "python3",
      "display_name": "Python 3"
    },
    "language_info": {
      "name": "python"
    },
    "accelerator": "GPU",
    "widgets": {
      "application/vnd.jupyter.widget-state+json": {
        "2bcf23ff46264d1dbd2dddbe3a833718": {
          "model_module": "@jupyter-widgets/controls",
          "model_name": "HBoxModel",
          "model_module_version": "1.5.0",
          "state": {
            "_dom_classes": [],
            "_model_module": "@jupyter-widgets/controls",
            "_model_module_version": "1.5.0",
            "_model_name": "HBoxModel",
            "_view_count": null,
            "_view_module": "@jupyter-widgets/controls",
            "_view_module_version": "1.5.0",
            "_view_name": "HBoxView",
            "box_style": "",
            "children": [
              "IPY_MODEL_ddffdbd8d166499b9747063c56eb1f26",
              "IPY_MODEL_b6e93f06368b47b3adf7cfac9e5f8421",
              "IPY_MODEL_5de36fb481f5476c8a75a3477fa9699b"
            ],
            "layout": "IPY_MODEL_efe2dd9f2e9a431482ad7fc44da83d44"
          }
        },
        "ddffdbd8d166499b9747063c56eb1f26": {
          "model_module": "@jupyter-widgets/controls",
          "model_name": "HTMLModel",
          "model_module_version": "1.5.0",
          "state": {
            "_dom_classes": [],
            "_model_module": "@jupyter-widgets/controls",
            "_model_module_version": "1.5.0",
            "_model_name": "HTMLModel",
            "_view_count": null,
            "_view_module": "@jupyter-widgets/controls",
            "_view_module_version": "1.5.0",
            "_view_name": "HTMLView",
            "description": "",
            "description_tooltip": null,
            "layout": "IPY_MODEL_067de35e33fd4077aecc480830849bee",
            "placeholder": "​",
            "style": "IPY_MODEL_e0c66156d690450d992af42953a80101",
            "value": "Creating json from Arrow format: 100%"
          }
        },
        "b6e93f06368b47b3adf7cfac9e5f8421": {
          "model_module": "@jupyter-widgets/controls",
          "model_name": "FloatProgressModel",
          "model_module_version": "1.5.0",
          "state": {
            "_dom_classes": [],
            "_model_module": "@jupyter-widgets/controls",
            "_model_module_version": "1.5.0",
            "_model_name": "FloatProgressModel",
            "_view_count": null,
            "_view_module": "@jupyter-widgets/controls",
            "_view_module_version": "1.5.0",
            "_view_name": "ProgressView",
            "bar_style": "success",
            "description": "",
            "description_tooltip": null,
            "layout": "IPY_MODEL_2ccce5ebc6a14849a545bf807c422bc0",
            "max": 7,
            "min": 0,
            "orientation": "horizontal",
            "style": "IPY_MODEL_9493d726e4774fa5a5319c681da054d9",
            "value": 7
          }
        },
        "5de36fb481f5476c8a75a3477fa9699b": {
          "model_module": "@jupyter-widgets/controls",
          "model_name": "HTMLModel",
          "model_module_version": "1.5.0",
          "state": {
            "_dom_classes": [],
            "_model_module": "@jupyter-widgets/controls",
            "_model_module_version": "1.5.0",
            "_model_name": "HTMLModel",
            "_view_count": null,
            "_view_module": "@jupyter-widgets/controls",
            "_view_module_version": "1.5.0",
            "_view_name": "HTMLView",
            "description": "",
            "description_tooltip": null,
            "layout": "IPY_MODEL_df2c15f0ba9940028adc5f3cff1bc50f",
            "placeholder": "​",
            "style": "IPY_MODEL_73a64e4a83ac450aa8d1e45f1ff05f5d",
            "value": " 7/7 [00:00&lt;00:00, 17.41ba/s]"
          }
        },
        "efe2dd9f2e9a431482ad7fc44da83d44": {
          "model_module": "@jupyter-widgets/base",
          "model_name": "LayoutModel",
          "model_module_version": "1.2.0",
          "state": {
            "_model_module": "@jupyter-widgets/base",
            "_model_module_version": "1.2.0",
            "_model_name": "LayoutModel",
            "_view_count": null,
            "_view_module": "@jupyter-widgets/base",
            "_view_module_version": "1.2.0",
            "_view_name": "LayoutView",
            "align_content": null,
            "align_items": null,
            "align_self": null,
            "border": null,
            "bottom": null,
            "display": null,
            "flex": null,
            "flex_flow": null,
            "grid_area": null,
            "grid_auto_columns": null,
            "grid_auto_flow": null,
            "grid_auto_rows": null,
            "grid_column": null,
            "grid_gap": null,
            "grid_row": null,
            "grid_template_areas": null,
            "grid_template_columns": null,
            "grid_template_rows": null,
            "height": null,
            "justify_content": null,
            "justify_items": null,
            "left": null,
            "margin": null,
            "max_height": null,
            "max_width": null,
            "min_height": null,
            "min_width": null,
            "object_fit": null,
            "object_position": null,
            "order": null,
            "overflow": null,
            "overflow_x": null,
            "overflow_y": null,
            "padding": null,
            "right": null,
            "top": null,
            "visibility": null,
            "width": null
          }
        },
        "067de35e33fd4077aecc480830849bee": {
          "model_module": "@jupyter-widgets/base",
          "model_name": "LayoutModel",
          "model_module_version": "1.2.0",
          "state": {
            "_model_module": "@jupyter-widgets/base",
            "_model_module_version": "1.2.0",
            "_model_name": "LayoutModel",
            "_view_count": null,
            "_view_module": "@jupyter-widgets/base",
            "_view_module_version": "1.2.0",
            "_view_name": "LayoutView",
            "align_content": null,
            "align_items": null,
            "align_self": null,
            "border": null,
            "bottom": null,
            "display": null,
            "flex": null,
            "flex_flow": null,
            "grid_area": null,
            "grid_auto_columns": null,
            "grid_auto_flow": null,
            "grid_auto_rows": null,
            "grid_column": null,
            "grid_gap": null,
            "grid_row": null,
            "grid_template_areas": null,
            "grid_template_columns": null,
            "grid_template_rows": null,
            "height": null,
            "justify_content": null,
            "justify_items": null,
            "left": null,
            "margin": null,
            "max_height": null,
            "max_width": null,
            "min_height": null,
            "min_width": null,
            "object_fit": null,
            "object_position": null,
            "order": null,
            "overflow": null,
            "overflow_x": null,
            "overflow_y": null,
            "padding": null,
            "right": null,
            "top": null,
            "visibility": null,
            "width": null
          }
        },
        "e0c66156d690450d992af42953a80101": {
          "model_module": "@jupyter-widgets/controls",
          "model_name": "DescriptionStyleModel",
          "model_module_version": "1.5.0",
          "state": {
            "_model_module": "@jupyter-widgets/controls",
            "_model_module_version": "1.5.0",
            "_model_name": "DescriptionStyleModel",
            "_view_count": null,
            "_view_module": "@jupyter-widgets/base",
            "_view_module_version": "1.2.0",
            "_view_name": "StyleView",
            "description_width": ""
          }
        },
        "2ccce5ebc6a14849a545bf807c422bc0": {
          "model_module": "@jupyter-widgets/base",
          "model_name": "LayoutModel",
          "model_module_version": "1.2.0",
          "state": {
            "_model_module": "@jupyter-widgets/base",
            "_model_module_version": "1.2.0",
            "_model_name": "LayoutModel",
            "_view_count": null,
            "_view_module": "@jupyter-widgets/base",
            "_view_module_version": "1.2.0",
            "_view_name": "LayoutView",
            "align_content": null,
            "align_items": null,
            "align_self": null,
            "border": null,
            "bottom": null,
            "display": null,
            "flex": null,
            "flex_flow": null,
            "grid_area": null,
            "grid_auto_columns": null,
            "grid_auto_flow": null,
            "grid_auto_rows": null,
            "grid_column": null,
            "grid_gap": null,
            "grid_row": null,
            "grid_template_areas": null,
            "grid_template_columns": null,
            "grid_template_rows": null,
            "height": null,
            "justify_content": null,
            "justify_items": null,
            "left": null,
            "margin": null,
            "max_height": null,
            "max_width": null,
            "min_height": null,
            "min_width": null,
            "object_fit": null,
            "object_position": null,
            "order": null,
            "overflow": null,
            "overflow_x": null,
            "overflow_y": null,
            "padding": null,
            "right": null,
            "top": null,
            "visibility": null,
            "width": null
          }
        },
        "9493d726e4774fa5a5319c681da054d9": {
          "model_module": "@jupyter-widgets/controls",
          "model_name": "ProgressStyleModel",
          "model_module_version": "1.5.0",
          "state": {
            "_model_module": "@jupyter-widgets/controls",
            "_model_module_version": "1.5.0",
            "_model_name": "ProgressStyleModel",
            "_view_count": null,
            "_view_module": "@jupyter-widgets/base",
            "_view_module_version": "1.2.0",
            "_view_name": "StyleView",
            "bar_color": null,
            "description_width": ""
          }
        },
        "df2c15f0ba9940028adc5f3cff1bc50f": {
          "model_module": "@jupyter-widgets/base",
          "model_name": "LayoutModel",
          "model_module_version": "1.2.0",
          "state": {
            "_model_module": "@jupyter-widgets/base",
            "_model_module_version": "1.2.0",
            "_model_name": "LayoutModel",
            "_view_count": null,
            "_view_module": "@jupyter-widgets/base",
            "_view_module_version": "1.2.0",
            "_view_name": "LayoutView",
            "align_content": null,
            "align_items": null,
            "align_self": null,
            "border": null,
            "bottom": null,
            "display": null,
            "flex": null,
            "flex_flow": null,
            "grid_area": null,
            "grid_auto_columns": null,
            "grid_auto_flow": null,
            "grid_auto_rows": null,
            "grid_column": null,
            "grid_gap": null,
            "grid_row": null,
            "grid_template_areas": null,
            "grid_template_columns": null,
            "grid_template_rows": null,
            "height": null,
            "justify_content": null,
            "justify_items": null,
            "left": null,
            "margin": null,
            "max_height": null,
            "max_width": null,
            "min_height": null,
            "min_width": null,
            "object_fit": null,
            "object_position": null,
            "order": null,
            "overflow": null,
            "overflow_x": null,
            "overflow_y": null,
            "padding": null,
            "right": null,
            "top": null,
            "visibility": null,
            "width": null
          }
        },
        "73a64e4a83ac450aa8d1e45f1ff05f5d": {
          "model_module": "@jupyter-widgets/controls",
          "model_name": "DescriptionStyleModel",
          "model_module_version": "1.5.0",
          "state": {
            "_model_module": "@jupyter-widgets/controls",
            "_model_module_version": "1.5.0",
            "_model_name": "DescriptionStyleModel",
            "_view_count": null,
            "_view_module": "@jupyter-widgets/base",
            "_view_module_version": "1.2.0",
            "_view_name": "StyleView",
            "description_width": ""
          }
        },
        "292c2783afe343d8806eeb3ef243c6bd": {
          "model_module": "@jupyter-widgets/controls",
          "model_name": "HBoxModel",
          "model_module_version": "1.5.0",
          "state": {
            "_dom_classes": [],
            "_model_module": "@jupyter-widgets/controls",
            "_model_module_version": "1.5.0",
            "_model_name": "HBoxModel",
            "_view_count": null,
            "_view_module": "@jupyter-widgets/controls",
            "_view_module_version": "1.5.0",
            "_view_name": "HBoxView",
            "box_style": "",
            "children": [
              "IPY_MODEL_adea438a7d794ec09f2d50cff5e5057b",
              "IPY_MODEL_c35487e23c944b1bbded4ed0417dcbd4",
              "IPY_MODEL_3162a197b141429f8b3ebde567063974"
            ],
            "layout": "IPY_MODEL_e6189320bb4a4ab8beb9b13333ccd810"
          }
        },
        "adea438a7d794ec09f2d50cff5e5057b": {
          "model_module": "@jupyter-widgets/controls",
          "model_name": "HTMLModel",
          "model_module_version": "1.5.0",
          "state": {
            "_dom_classes": [],
            "_model_module": "@jupyter-widgets/controls",
            "_model_module_version": "1.5.0",
            "_model_name": "HTMLModel",
            "_view_count": null,
            "_view_module": "@jupyter-widgets/controls",
            "_view_module_version": "1.5.0",
            "_view_name": "HTMLView",
            "description": "",
            "description_tooltip": null,
            "layout": "IPY_MODEL_7883f61f6a424854af626085cd6dd2f5",
            "placeholder": "​",
            "style": "IPY_MODEL_8f3354f79f804624a018df5cadbb799e",
            "value": "Creating json from Arrow format: 100%"
          }
        },
        "c35487e23c944b1bbded4ed0417dcbd4": {
          "model_module": "@jupyter-widgets/controls",
          "model_name": "FloatProgressModel",
          "model_module_version": "1.5.0",
          "state": {
            "_dom_classes": [],
            "_model_module": "@jupyter-widgets/controls",
            "_model_module_version": "1.5.0",
            "_model_name": "FloatProgressModel",
            "_view_count": null,
            "_view_module": "@jupyter-widgets/controls",
            "_view_module_version": "1.5.0",
            "_view_name": "ProgressView",
            "bar_style": "success",
            "description": "",
            "description_tooltip": null,
            "layout": "IPY_MODEL_b17416c3773a4c799b4f5a220eea6020",
            "max": 1,
            "min": 0,
            "orientation": "horizontal",
            "style": "IPY_MODEL_006b2111f6274d51874a2849f04218d5",
            "value": 1
          }
        },
        "3162a197b141429f8b3ebde567063974": {
          "model_module": "@jupyter-widgets/controls",
          "model_name": "HTMLModel",
          "model_module_version": "1.5.0",
          "state": {
            "_dom_classes": [],
            "_model_module": "@jupyter-widgets/controls",
            "_model_module_version": "1.5.0",
            "_model_name": "HTMLModel",
            "_view_count": null,
            "_view_module": "@jupyter-widgets/controls",
            "_view_module_version": "1.5.0",
            "_view_name": "HTMLView",
            "description": "",
            "description_tooltip": null,
            "layout": "IPY_MODEL_f7322cd286ae40eba36c6ccbf90f733f",
            "placeholder": "​",
            "style": "IPY_MODEL_984c4eef142e4ca8bcdea3ad906e1e55",
            "value": " 1/1 [00:00&lt;00:00, 16.48ba/s]"
          }
        },
        "e6189320bb4a4ab8beb9b13333ccd810": {
          "model_module": "@jupyter-widgets/base",
          "model_name": "LayoutModel",
          "model_module_version": "1.2.0",
          "state": {
            "_model_module": "@jupyter-widgets/base",
            "_model_module_version": "1.2.0",
            "_model_name": "LayoutModel",
            "_view_count": null,
            "_view_module": "@jupyter-widgets/base",
            "_view_module_version": "1.2.0",
            "_view_name": "LayoutView",
            "align_content": null,
            "align_items": null,
            "align_self": null,
            "border": null,
            "bottom": null,
            "display": null,
            "flex": null,
            "flex_flow": null,
            "grid_area": null,
            "grid_auto_columns": null,
            "grid_auto_flow": null,
            "grid_auto_rows": null,
            "grid_column": null,
            "grid_gap": null,
            "grid_row": null,
            "grid_template_areas": null,
            "grid_template_columns": null,
            "grid_template_rows": null,
            "height": null,
            "justify_content": null,
            "justify_items": null,
            "left": null,
            "margin": null,
            "max_height": null,
            "max_width": null,
            "min_height": null,
            "min_width": null,
            "object_fit": null,
            "object_position": null,
            "order": null,
            "overflow": null,
            "overflow_x": null,
            "overflow_y": null,
            "padding": null,
            "right": null,
            "top": null,
            "visibility": null,
            "width": null
          }
        },
        "7883f61f6a424854af626085cd6dd2f5": {
          "model_module": "@jupyter-widgets/base",
          "model_name": "LayoutModel",
          "model_module_version": "1.2.0",
          "state": {
            "_model_module": "@jupyter-widgets/base",
            "_model_module_version": "1.2.0",
            "_model_name": "LayoutModel",
            "_view_count": null,
            "_view_module": "@jupyter-widgets/base",
            "_view_module_version": "1.2.0",
            "_view_name": "LayoutView",
            "align_content": null,
            "align_items": null,
            "align_self": null,
            "border": null,
            "bottom": null,
            "display": null,
            "flex": null,
            "flex_flow": null,
            "grid_area": null,
            "grid_auto_columns": null,
            "grid_auto_flow": null,
            "grid_auto_rows": null,
            "grid_column": null,
            "grid_gap": null,
            "grid_row": null,
            "grid_template_areas": null,
            "grid_template_columns": null,
            "grid_template_rows": null,
            "height": null,
            "justify_content": null,
            "justify_items": null,
            "left": null,
            "margin": null,
            "max_height": null,
            "max_width": null,
            "min_height": null,
            "min_width": null,
            "object_fit": null,
            "object_position": null,
            "order": null,
            "overflow": null,
            "overflow_x": null,
            "overflow_y": null,
            "padding": null,
            "right": null,
            "top": null,
            "visibility": null,
            "width": null
          }
        },
        "8f3354f79f804624a018df5cadbb799e": {
          "model_module": "@jupyter-widgets/controls",
          "model_name": "DescriptionStyleModel",
          "model_module_version": "1.5.0",
          "state": {
            "_model_module": "@jupyter-widgets/controls",
            "_model_module_version": "1.5.0",
            "_model_name": "DescriptionStyleModel",
            "_view_count": null,
            "_view_module": "@jupyter-widgets/base",
            "_view_module_version": "1.2.0",
            "_view_name": "StyleView",
            "description_width": ""
          }
        },
        "b17416c3773a4c799b4f5a220eea6020": {
          "model_module": "@jupyter-widgets/base",
          "model_name": "LayoutModel",
          "model_module_version": "1.2.0",
          "state": {
            "_model_module": "@jupyter-widgets/base",
            "_model_module_version": "1.2.0",
            "_model_name": "LayoutModel",
            "_view_count": null,
            "_view_module": "@jupyter-widgets/base",
            "_view_module_version": "1.2.0",
            "_view_name": "LayoutView",
            "align_content": null,
            "align_items": null,
            "align_self": null,
            "border": null,
            "bottom": null,
            "display": null,
            "flex": null,
            "flex_flow": null,
            "grid_area": null,
            "grid_auto_columns": null,
            "grid_auto_flow": null,
            "grid_auto_rows": null,
            "grid_column": null,
            "grid_gap": null,
            "grid_row": null,
            "grid_template_areas": null,
            "grid_template_columns": null,
            "grid_template_rows": null,
            "height": null,
            "justify_content": null,
            "justify_items": null,
            "left": null,
            "margin": null,
            "max_height": null,
            "max_width": null,
            "min_height": null,
            "min_width": null,
            "object_fit": null,
            "object_position": null,
            "order": null,
            "overflow": null,
            "overflow_x": null,
            "overflow_y": null,
            "padding": null,
            "right": null,
            "top": null,
            "visibility": null,
            "width": null
          }
        },
        "006b2111f6274d51874a2849f04218d5": {
          "model_module": "@jupyter-widgets/controls",
          "model_name": "ProgressStyleModel",
          "model_module_version": "1.5.0",
          "state": {
            "_model_module": "@jupyter-widgets/controls",
            "_model_module_version": "1.5.0",
            "_model_name": "ProgressStyleModel",
            "_view_count": null,
            "_view_module": "@jupyter-widgets/base",
            "_view_module_version": "1.2.0",
            "_view_name": "StyleView",
            "bar_color": null,
            "description_width": ""
          }
        },
        "f7322cd286ae40eba36c6ccbf90f733f": {
          "model_module": "@jupyter-widgets/base",
          "model_name": "LayoutModel",
          "model_module_version": "1.2.0",
          "state": {
            "_model_module": "@jupyter-widgets/base",
            "_model_module_version": "1.2.0",
            "_model_name": "LayoutModel",
            "_view_count": null,
            "_view_module": "@jupyter-widgets/base",
            "_view_module_version": "1.2.0",
            "_view_name": "LayoutView",
            "align_content": null,
            "align_items": null,
            "align_self": null,
            "border": null,
            "bottom": null,
            "display": null,
            "flex": null,
            "flex_flow": null,
            "grid_area": null,
            "grid_auto_columns": null,
            "grid_auto_flow": null,
            "grid_auto_rows": null,
            "grid_column": null,
            "grid_gap": null,
            "grid_row": null,
            "grid_template_areas": null,
            "grid_template_columns": null,
            "grid_template_rows": null,
            "height": null,
            "justify_content": null,
            "justify_items": null,
            "left": null,
            "margin": null,
            "max_height": null,
            "max_width": null,
            "min_height": null,
            "min_width": null,
            "object_fit": null,
            "object_position": null,
            "order": null,
            "overflow": null,
            "overflow_x": null,
            "overflow_y": null,
            "padding": null,
            "right": null,
            "top": null,
            "visibility": null,
            "width": null
          }
        },
        "984c4eef142e4ca8bcdea3ad906e1e55": {
          "model_module": "@jupyter-widgets/controls",
          "model_name": "DescriptionStyleModel",
          "model_module_version": "1.5.0",
          "state": {
            "_model_module": "@jupyter-widgets/controls",
            "_model_module_version": "1.5.0",
            "_model_name": "DescriptionStyleModel",
            "_view_count": null,
            "_view_module": "@jupyter-widgets/base",
            "_view_module_version": "1.2.0",
            "_view_name": "StyleView",
            "description_width": ""
          }
        },
        "6be38cc9615747fdb99073be5eb300eb": {
          "model_module": "@jupyter-widgets/controls",
          "model_name": "HBoxModel",
          "model_module_version": "1.5.0",
          "state": {
            "_dom_classes": [],
            "_model_module": "@jupyter-widgets/controls",
            "_model_module_version": "1.5.0",
            "_model_name": "HBoxModel",
            "_view_count": null,
            "_view_module": "@jupyter-widgets/controls",
            "_view_module_version": "1.5.0",
            "_view_name": "HBoxView",
            "box_style": "",
            "children": [
              "IPY_MODEL_78e7192e9ccd405e8c36efcb63eb15b2",
              "IPY_MODEL_41361a3370474433a19c47891cefc108",
              "IPY_MODEL_b708cf56092d430485c156a829cb76d3"
            ],
            "layout": "IPY_MODEL_004a12c72fb14b128bbf0e2e02ad3206"
          }
        },
        "78e7192e9ccd405e8c36efcb63eb15b2": {
          "model_module": "@jupyter-widgets/controls",
          "model_name": "HTMLModel",
          "model_module_version": "1.5.0",
          "state": {
            "_dom_classes": [],
            "_model_module": "@jupyter-widgets/controls",
            "_model_module_version": "1.5.0",
            "_model_name": "HTMLModel",
            "_view_count": null,
            "_view_module": "@jupyter-widgets/controls",
            "_view_module_version": "1.5.0",
            "_view_name": "HTMLView",
            "description": "",
            "description_tooltip": null,
            "layout": "IPY_MODEL_9ca5f0a91d7b4faa9798a7a267c0254b",
            "placeholder": "​",
            "style": "IPY_MODEL_d488ec03d3c64f66805051bd3af06c7e",
            "value": "Generating train split: "
          }
        },
        "41361a3370474433a19c47891cefc108": {
          "model_module": "@jupyter-widgets/controls",
          "model_name": "FloatProgressModel",
          "model_module_version": "1.5.0",
          "state": {
            "_dom_classes": [],
            "_model_module": "@jupyter-widgets/controls",
            "_model_module_version": "1.5.0",
            "_model_name": "FloatProgressModel",
            "_view_count": null,
            "_view_module": "@jupyter-widgets/controls",
            "_view_module_version": "1.5.0",
            "_view_name": "ProgressView",
            "bar_style": "success",
            "description": "",
            "description_tooltip": null,
            "layout": "IPY_MODEL_57dc818b981645a882ba7366ae1a8f3c",
            "max": 1,
            "min": 0,
            "orientation": "horizontal",
            "style": "IPY_MODEL_d8e04000c57d49e3a5e8e7334590ffdc",
            "value": 1
          }
        },
        "b708cf56092d430485c156a829cb76d3": {
          "model_module": "@jupyter-widgets/controls",
          "model_name": "HTMLModel",
          "model_module_version": "1.5.0",
          "state": {
            "_dom_classes": [],
            "_model_module": "@jupyter-widgets/controls",
            "_model_module_version": "1.5.0",
            "_model_name": "HTMLModel",
            "_view_count": null,
            "_view_module": "@jupyter-widgets/controls",
            "_view_module_version": "1.5.0",
            "_view_name": "HTMLView",
            "description": "",
            "description_tooltip": null,
            "layout": "IPY_MODEL_a9a9b98e19ae405d9c3f31fbb6a3ee6a",
            "placeholder": "​",
            "style": "IPY_MODEL_e2ed165d6fc545bdb9f5293cafd1cae7",
            "value": " 700/0 [00:00&lt;00:00, 9399.87 examples/s]"
          }
        },
        "004a12c72fb14b128bbf0e2e02ad3206": {
          "model_module": "@jupyter-widgets/base",
          "model_name": "LayoutModel",
          "model_module_version": "1.2.0",
          "state": {
            "_model_module": "@jupyter-widgets/base",
            "_model_module_version": "1.2.0",
            "_model_name": "LayoutModel",
            "_view_count": null,
            "_view_module": "@jupyter-widgets/base",
            "_view_module_version": "1.2.0",
            "_view_name": "LayoutView",
            "align_content": null,
            "align_items": null,
            "align_self": null,
            "border": null,
            "bottom": null,
            "display": null,
            "flex": null,
            "flex_flow": null,
            "grid_area": null,
            "grid_auto_columns": null,
            "grid_auto_flow": null,
            "grid_auto_rows": null,
            "grid_column": null,
            "grid_gap": null,
            "grid_row": null,
            "grid_template_areas": null,
            "grid_template_columns": null,
            "grid_template_rows": null,
            "height": null,
            "justify_content": null,
            "justify_items": null,
            "left": null,
            "margin": null,
            "max_height": null,
            "max_width": null,
            "min_height": null,
            "min_width": null,
            "object_fit": null,
            "object_position": null,
            "order": null,
            "overflow": null,
            "overflow_x": null,
            "overflow_y": null,
            "padding": null,
            "right": null,
            "top": null,
            "visibility": null,
            "width": null
          }
        },
        "9ca5f0a91d7b4faa9798a7a267c0254b": {
          "model_module": "@jupyter-widgets/base",
          "model_name": "LayoutModel",
          "model_module_version": "1.2.0",
          "state": {
            "_model_module": "@jupyter-widgets/base",
            "_model_module_version": "1.2.0",
            "_model_name": "LayoutModel",
            "_view_count": null,
            "_view_module": "@jupyter-widgets/base",
            "_view_module_version": "1.2.0",
            "_view_name": "LayoutView",
            "align_content": null,
            "align_items": null,
            "align_self": null,
            "border": null,
            "bottom": null,
            "display": null,
            "flex": null,
            "flex_flow": null,
            "grid_area": null,
            "grid_auto_columns": null,
            "grid_auto_flow": null,
            "grid_auto_rows": null,
            "grid_column": null,
            "grid_gap": null,
            "grid_row": null,
            "grid_template_areas": null,
            "grid_template_columns": null,
            "grid_template_rows": null,
            "height": null,
            "justify_content": null,
            "justify_items": null,
            "left": null,
            "margin": null,
            "max_height": null,
            "max_width": null,
            "min_height": null,
            "min_width": null,
            "object_fit": null,
            "object_position": null,
            "order": null,
            "overflow": null,
            "overflow_x": null,
            "overflow_y": null,
            "padding": null,
            "right": null,
            "top": null,
            "visibility": null,
            "width": null
          }
        },
        "d488ec03d3c64f66805051bd3af06c7e": {
          "model_module": "@jupyter-widgets/controls",
          "model_name": "DescriptionStyleModel",
          "model_module_version": "1.5.0",
          "state": {
            "_model_module": "@jupyter-widgets/controls",
            "_model_module_version": "1.5.0",
            "_model_name": "DescriptionStyleModel",
            "_view_count": null,
            "_view_module": "@jupyter-widgets/base",
            "_view_module_version": "1.2.0",
            "_view_name": "StyleView",
            "description_width": ""
          }
        },
        "57dc818b981645a882ba7366ae1a8f3c": {
          "model_module": "@jupyter-widgets/base",
          "model_name": "LayoutModel",
          "model_module_version": "1.2.0",
          "state": {
            "_model_module": "@jupyter-widgets/base",
            "_model_module_version": "1.2.0",
            "_model_name": "LayoutModel",
            "_view_count": null,
            "_view_module": "@jupyter-widgets/base",
            "_view_module_version": "1.2.0",
            "_view_name": "LayoutView",
            "align_content": null,
            "align_items": null,
            "align_self": null,
            "border": null,
            "bottom": null,
            "display": null,
            "flex": null,
            "flex_flow": null,
            "grid_area": null,
            "grid_auto_columns": null,
            "grid_auto_flow": null,
            "grid_auto_rows": null,
            "grid_column": null,
            "grid_gap": null,
            "grid_row": null,
            "grid_template_areas": null,
            "grid_template_columns": null,
            "grid_template_rows": null,
            "height": null,
            "justify_content": null,
            "justify_items": null,
            "left": null,
            "margin": null,
            "max_height": null,
            "max_width": null,
            "min_height": null,
            "min_width": null,
            "object_fit": null,
            "object_position": null,
            "order": null,
            "overflow": null,
            "overflow_x": null,
            "overflow_y": null,
            "padding": null,
            "right": null,
            "top": null,
            "visibility": null,
            "width": "20px"
          }
        },
        "d8e04000c57d49e3a5e8e7334590ffdc": {
          "model_module": "@jupyter-widgets/controls",
          "model_name": "ProgressStyleModel",
          "model_module_version": "1.5.0",
          "state": {
            "_model_module": "@jupyter-widgets/controls",
            "_model_module_version": "1.5.0",
            "_model_name": "ProgressStyleModel",
            "_view_count": null,
            "_view_module": "@jupyter-widgets/base",
            "_view_module_version": "1.2.0",
            "_view_name": "StyleView",
            "bar_color": null,
            "description_width": ""
          }
        },
        "a9a9b98e19ae405d9c3f31fbb6a3ee6a": {
          "model_module": "@jupyter-widgets/base",
          "model_name": "LayoutModel",
          "model_module_version": "1.2.0",
          "state": {
            "_model_module": "@jupyter-widgets/base",
            "_model_module_version": "1.2.0",
            "_model_name": "LayoutModel",
            "_view_count": null,
            "_view_module": "@jupyter-widgets/base",
            "_view_module_version": "1.2.0",
            "_view_name": "LayoutView",
            "align_content": null,
            "align_items": null,
            "align_self": null,
            "border": null,
            "bottom": null,
            "display": null,
            "flex": null,
            "flex_flow": null,
            "grid_area": null,
            "grid_auto_columns": null,
            "grid_auto_flow": null,
            "grid_auto_rows": null,
            "grid_column": null,
            "grid_gap": null,
            "grid_row": null,
            "grid_template_areas": null,
            "grid_template_columns": null,
            "grid_template_rows": null,
            "height": null,
            "justify_content": null,
            "justify_items": null,
            "left": null,
            "margin": null,
            "max_height": null,
            "max_width": null,
            "min_height": null,
            "min_width": null,
            "object_fit": null,
            "object_position": null,
            "order": null,
            "overflow": null,
            "overflow_x": null,
            "overflow_y": null,
            "padding": null,
            "right": null,
            "top": null,
            "visibility": null,
            "width": null
          }
        },
        "e2ed165d6fc545bdb9f5293cafd1cae7": {
          "model_module": "@jupyter-widgets/controls",
          "model_name": "DescriptionStyleModel",
          "model_module_version": "1.5.0",
          "state": {
            "_model_module": "@jupyter-widgets/controls",
            "_model_module_version": "1.5.0",
            "_model_name": "DescriptionStyleModel",
            "_view_count": null,
            "_view_module": "@jupyter-widgets/base",
            "_view_module_version": "1.2.0",
            "_view_name": "StyleView",
            "description_width": ""
          }
        },
        "88add640a18a4064bab78a1062d51646": {
          "model_module": "@jupyter-widgets/controls",
          "model_name": "HBoxModel",
          "model_module_version": "1.5.0",
          "state": {
            "_dom_classes": [],
            "_model_module": "@jupyter-widgets/controls",
            "_model_module_version": "1.5.0",
            "_model_name": "HBoxModel",
            "_view_count": null,
            "_view_module": "@jupyter-widgets/controls",
            "_view_module_version": "1.5.0",
            "_view_name": "HBoxView",
            "box_style": "",
            "children": [
              "IPY_MODEL_ef333624f9be4d4ab5040d987a02120e",
              "IPY_MODEL_e4a24f31198b4f44bb63f1970d741af5",
              "IPY_MODEL_4fea34c4708244ff88ffad7c83e22507"
            ],
            "layout": "IPY_MODEL_ca177a39c7f444ff864603d796153238"
          }
        },
        "ef333624f9be4d4ab5040d987a02120e": {
          "model_module": "@jupyter-widgets/controls",
          "model_name": "HTMLModel",
          "model_module_version": "1.5.0",
          "state": {
            "_dom_classes": [],
            "_model_module": "@jupyter-widgets/controls",
            "_model_module_version": "1.5.0",
            "_model_name": "HTMLModel",
            "_view_count": null,
            "_view_module": "@jupyter-widgets/controls",
            "_view_module_version": "1.5.0",
            "_view_name": "HTMLView",
            "description": "",
            "description_tooltip": null,
            "layout": "IPY_MODEL_0e3c74326ffc4122b517facde5c52463",
            "placeholder": "​",
            "style": "IPY_MODEL_88631e9464044258a23c75bb4c83fe7a",
            "value": "Generating train split: "
          }
        },
        "e4a24f31198b4f44bb63f1970d741af5": {
          "model_module": "@jupyter-widgets/controls",
          "model_name": "FloatProgressModel",
          "model_module_version": "1.5.0",
          "state": {
            "_dom_classes": [],
            "_model_module": "@jupyter-widgets/controls",
            "_model_module_version": "1.5.0",
            "_model_name": "FloatProgressModel",
            "_view_count": null,
            "_view_module": "@jupyter-widgets/controls",
            "_view_module_version": "1.5.0",
            "_view_name": "ProgressView",
            "bar_style": "success",
            "description": "",
            "description_tooltip": null,
            "layout": "IPY_MODEL_5869304407e44361804e80571deffcf7",
            "max": 1,
            "min": 0,
            "orientation": "horizontal",
            "style": "IPY_MODEL_214274d9b25e4f498438c1ae57e640c7",
            "value": 1
          }
        },
        "4fea34c4708244ff88ffad7c83e22507": {
          "model_module": "@jupyter-widgets/controls",
          "model_name": "HTMLModel",
          "model_module_version": "1.5.0",
          "state": {
            "_dom_classes": [],
            "_model_module": "@jupyter-widgets/controls",
            "_model_module_version": "1.5.0",
            "_model_name": "HTMLModel",
            "_view_count": null,
            "_view_module": "@jupyter-widgets/controls",
            "_view_module_version": "1.5.0",
            "_view_name": "HTMLView",
            "description": "",
            "description_tooltip": null,
            "layout": "IPY_MODEL_74a8f10ab5ec4f0bb19e4e135f4c0434",
            "placeholder": "​",
            "style": "IPY_MODEL_7bd1c158b5e4414daabfa573c6f2da9f",
            "value": " 6300/0 [00:00&lt;00:00, 65410.44 examples/s]"
          }
        },
        "ca177a39c7f444ff864603d796153238": {
          "model_module": "@jupyter-widgets/base",
          "model_name": "LayoutModel",
          "model_module_version": "1.2.0",
          "state": {
            "_model_module": "@jupyter-widgets/base",
            "_model_module_version": "1.2.0",
            "_model_name": "LayoutModel",
            "_view_count": null,
            "_view_module": "@jupyter-widgets/base",
            "_view_module_version": "1.2.0",
            "_view_name": "LayoutView",
            "align_content": null,
            "align_items": null,
            "align_self": null,
            "border": null,
            "bottom": null,
            "display": null,
            "flex": null,
            "flex_flow": null,
            "grid_area": null,
            "grid_auto_columns": null,
            "grid_auto_flow": null,
            "grid_auto_rows": null,
            "grid_column": null,
            "grid_gap": null,
            "grid_row": null,
            "grid_template_areas": null,
            "grid_template_columns": null,
            "grid_template_rows": null,
            "height": null,
            "justify_content": null,
            "justify_items": null,
            "left": null,
            "margin": null,
            "max_height": null,
            "max_width": null,
            "min_height": null,
            "min_width": null,
            "object_fit": null,
            "object_position": null,
            "order": null,
            "overflow": null,
            "overflow_x": null,
            "overflow_y": null,
            "padding": null,
            "right": null,
            "top": null,
            "visibility": null,
            "width": null
          }
        },
        "0e3c74326ffc4122b517facde5c52463": {
          "model_module": "@jupyter-widgets/base",
          "model_name": "LayoutModel",
          "model_module_version": "1.2.0",
          "state": {
            "_model_module": "@jupyter-widgets/base",
            "_model_module_version": "1.2.0",
            "_model_name": "LayoutModel",
            "_view_count": null,
            "_view_module": "@jupyter-widgets/base",
            "_view_module_version": "1.2.0",
            "_view_name": "LayoutView",
            "align_content": null,
            "align_items": null,
            "align_self": null,
            "border": null,
            "bottom": null,
            "display": null,
            "flex": null,
            "flex_flow": null,
            "grid_area": null,
            "grid_auto_columns": null,
            "grid_auto_flow": null,
            "grid_auto_rows": null,
            "grid_column": null,
            "grid_gap": null,
            "grid_row": null,
            "grid_template_areas": null,
            "grid_template_columns": null,
            "grid_template_rows": null,
            "height": null,
            "justify_content": null,
            "justify_items": null,
            "left": null,
            "margin": null,
            "max_height": null,
            "max_width": null,
            "min_height": null,
            "min_width": null,
            "object_fit": null,
            "object_position": null,
            "order": null,
            "overflow": null,
            "overflow_x": null,
            "overflow_y": null,
            "padding": null,
            "right": null,
            "top": null,
            "visibility": null,
            "width": null
          }
        },
        "88631e9464044258a23c75bb4c83fe7a": {
          "model_module": "@jupyter-widgets/controls",
          "model_name": "DescriptionStyleModel",
          "model_module_version": "1.5.0",
          "state": {
            "_model_module": "@jupyter-widgets/controls",
            "_model_module_version": "1.5.0",
            "_model_name": "DescriptionStyleModel",
            "_view_count": null,
            "_view_module": "@jupyter-widgets/base",
            "_view_module_version": "1.2.0",
            "_view_name": "StyleView",
            "description_width": ""
          }
        },
        "5869304407e44361804e80571deffcf7": {
          "model_module": "@jupyter-widgets/base",
          "model_name": "LayoutModel",
          "model_module_version": "1.2.0",
          "state": {
            "_model_module": "@jupyter-widgets/base",
            "_model_module_version": "1.2.0",
            "_model_name": "LayoutModel",
            "_view_count": null,
            "_view_module": "@jupyter-widgets/base",
            "_view_module_version": "1.2.0",
            "_view_name": "LayoutView",
            "align_content": null,
            "align_items": null,
            "align_self": null,
            "border": null,
            "bottom": null,
            "display": null,
            "flex": null,
            "flex_flow": null,
            "grid_area": null,
            "grid_auto_columns": null,
            "grid_auto_flow": null,
            "grid_auto_rows": null,
            "grid_column": null,
            "grid_gap": null,
            "grid_row": null,
            "grid_template_areas": null,
            "grid_template_columns": null,
            "grid_template_rows": null,
            "height": null,
            "justify_content": null,
            "justify_items": null,
            "left": null,
            "margin": null,
            "max_height": null,
            "max_width": null,
            "min_height": null,
            "min_width": null,
            "object_fit": null,
            "object_position": null,
            "order": null,
            "overflow": null,
            "overflow_x": null,
            "overflow_y": null,
            "padding": null,
            "right": null,
            "top": null,
            "visibility": null,
            "width": "20px"
          }
        },
        "214274d9b25e4f498438c1ae57e640c7": {
          "model_module": "@jupyter-widgets/controls",
          "model_name": "ProgressStyleModel",
          "model_module_version": "1.5.0",
          "state": {
            "_model_module": "@jupyter-widgets/controls",
            "_model_module_version": "1.5.0",
            "_model_name": "ProgressStyleModel",
            "_view_count": null,
            "_view_module": "@jupyter-widgets/base",
            "_view_module_version": "1.2.0",
            "_view_name": "StyleView",
            "bar_color": null,
            "description_width": ""
          }
        },
        "74a8f10ab5ec4f0bb19e4e135f4c0434": {
          "model_module": "@jupyter-widgets/base",
          "model_name": "LayoutModel",
          "model_module_version": "1.2.0",
          "state": {
            "_model_module": "@jupyter-widgets/base",
            "_model_module_version": "1.2.0",
            "_model_name": "LayoutModel",
            "_view_count": null,
            "_view_module": "@jupyter-widgets/base",
            "_view_module_version": "1.2.0",
            "_view_name": "LayoutView",
            "align_content": null,
            "align_items": null,
            "align_self": null,
            "border": null,
            "bottom": null,
            "display": null,
            "flex": null,
            "flex_flow": null,
            "grid_area": null,
            "grid_auto_columns": null,
            "grid_auto_flow": null,
            "grid_auto_rows": null,
            "grid_column": null,
            "grid_gap": null,
            "grid_row": null,
            "grid_template_areas": null,
            "grid_template_columns": null,
            "grid_template_rows": null,
            "height": null,
            "justify_content": null,
            "justify_items": null,
            "left": null,
            "margin": null,
            "max_height": null,
            "max_width": null,
            "min_height": null,
            "min_width": null,
            "object_fit": null,
            "object_position": null,
            "order": null,
            "overflow": null,
            "overflow_x": null,
            "overflow_y": null,
            "padding": null,
            "right": null,
            "top": null,
            "visibility": null,
            "width": null
          }
        },
        "7bd1c158b5e4414daabfa573c6f2da9f": {
          "model_module": "@jupyter-widgets/controls",
          "model_name": "DescriptionStyleModel",
          "model_module_version": "1.5.0",
          "state": {
            "_model_module": "@jupyter-widgets/controls",
            "_model_module_version": "1.5.0",
            "_model_name": "DescriptionStyleModel",
            "_view_count": null,
            "_view_module": "@jupyter-widgets/base",
            "_view_module_version": "1.2.0",
            "_view_name": "StyleView",
            "description_width": ""
          }
        },
        "01c007fc581f4624a882418948ce949c": {
          "model_module": "@jupyter-widgets/controls",
          "model_name": "HBoxModel",
          "model_module_version": "1.5.0",
          "state": {
            "_dom_classes": [],
            "_model_module": "@jupyter-widgets/controls",
            "_model_module_version": "1.5.0",
            "_model_name": "HBoxModel",
            "_view_count": null,
            "_view_module": "@jupyter-widgets/controls",
            "_view_module_version": "1.5.0",
            "_view_name": "HBoxView",
            "box_style": "",
            "children": [
              "IPY_MODEL_8245697ec30f4abebfee80e46d782f53",
              "IPY_MODEL_a7765b87d87248a8a149ec24c1626d97",
              "IPY_MODEL_f2730570a8f2477389cd023f800e4e09"
            ],
            "layout": "IPY_MODEL_d74a37edbac54559b5944b4a808b0501"
          }
        },
        "8245697ec30f4abebfee80e46d782f53": {
          "model_module": "@jupyter-widgets/controls",
          "model_name": "HTMLModel",
          "model_module_version": "1.5.0",
          "state": {
            "_dom_classes": [],
            "_model_module": "@jupyter-widgets/controls",
            "_model_module_version": "1.5.0",
            "_model_name": "HTMLModel",
            "_view_count": null,
            "_view_module": "@jupyter-widgets/controls",
            "_view_module_version": "1.5.0",
            "_view_name": "HTMLView",
            "description": "",
            "description_tooltip": null,
            "layout": "IPY_MODEL_5a877d449bf34cdbab2feaf5df35b675",
            "placeholder": "​",
            "style": "IPY_MODEL_a11c1d767aed4f08b8e024475d9b5b04",
            "value": "Computing widget examples:   0%"
          }
        },
        "a7765b87d87248a8a149ec24c1626d97": {
          "model_module": "@jupyter-widgets/controls",
          "model_name": "FloatProgressModel",
          "model_module_version": "1.5.0",
          "state": {
            "_dom_classes": [],
            "_model_module": "@jupyter-widgets/controls",
            "_model_module_version": "1.5.0",
            "_model_name": "FloatProgressModel",
            "_view_count": null,
            "_view_module": "@jupyter-widgets/controls",
            "_view_module_version": "1.5.0",
            "_view_name": "ProgressView",
            "bar_style": "",
            "description": "",
            "description_tooltip": null,
            "layout": "IPY_MODEL_27b11b6f238f42da91ef10104f6a84b1",
            "max": 1,
            "min": 0,
            "orientation": "horizontal",
            "style": "IPY_MODEL_66c68f62617b4c3d847fde5b53d3d26b",
            "value": 1
          }
        },
        "f2730570a8f2477389cd023f800e4e09": {
          "model_module": "@jupyter-widgets/controls",
          "model_name": "HTMLModel",
          "model_module_version": "1.5.0",
          "state": {
            "_dom_classes": [],
            "_model_module": "@jupyter-widgets/controls",
            "_model_module_version": "1.5.0",
            "_model_name": "HTMLModel",
            "_view_count": null,
            "_view_module": "@jupyter-widgets/controls",
            "_view_module_version": "1.5.0",
            "_view_name": "HTMLView",
            "description": "",
            "description_tooltip": null,
            "layout": "IPY_MODEL_8002f5cadb394700a49f5cb145dd0b1a",
            "placeholder": "​",
            "style": "IPY_MODEL_9a87c2ff022547ecba73d916db3c5abe",
            "value": " 0/1 [00:00&lt;?, ?example/s]"
          }
        },
        "d74a37edbac54559b5944b4a808b0501": {
          "model_module": "@jupyter-widgets/base",
          "model_name": "LayoutModel",
          "model_module_version": "1.2.0",
          "state": {
            "_model_module": "@jupyter-widgets/base",
            "_model_module_version": "1.2.0",
            "_model_name": "LayoutModel",
            "_view_count": null,
            "_view_module": "@jupyter-widgets/base",
            "_view_module_version": "1.2.0",
            "_view_name": "LayoutView",
            "align_content": null,
            "align_items": null,
            "align_self": null,
            "border": null,
            "bottom": null,
            "display": null,
            "flex": null,
            "flex_flow": null,
            "grid_area": null,
            "grid_auto_columns": null,
            "grid_auto_flow": null,
            "grid_auto_rows": null,
            "grid_column": null,
            "grid_gap": null,
            "grid_row": null,
            "grid_template_areas": null,
            "grid_template_columns": null,
            "grid_template_rows": null,
            "height": null,
            "justify_content": null,
            "justify_items": null,
            "left": null,
            "margin": null,
            "max_height": null,
            "max_width": null,
            "min_height": null,
            "min_width": null,
            "object_fit": null,
            "object_position": null,
            "order": null,
            "overflow": null,
            "overflow_x": null,
            "overflow_y": null,
            "padding": null,
            "right": null,
            "top": null,
            "visibility": "hidden",
            "width": null
          }
        },
        "5a877d449bf34cdbab2feaf5df35b675": {
          "model_module": "@jupyter-widgets/base",
          "model_name": "LayoutModel",
          "model_module_version": "1.2.0",
          "state": {
            "_model_module": "@jupyter-widgets/base",
            "_model_module_version": "1.2.0",
            "_model_name": "LayoutModel",
            "_view_count": null,
            "_view_module": "@jupyter-widgets/base",
            "_view_module_version": "1.2.0",
            "_view_name": "LayoutView",
            "align_content": null,
            "align_items": null,
            "align_self": null,
            "border": null,
            "bottom": null,
            "display": null,
            "flex": null,
            "flex_flow": null,
            "grid_area": null,
            "grid_auto_columns": null,
            "grid_auto_flow": null,
            "grid_auto_rows": null,
            "grid_column": null,
            "grid_gap": null,
            "grid_row": null,
            "grid_template_areas": null,
            "grid_template_columns": null,
            "grid_template_rows": null,
            "height": null,
            "justify_content": null,
            "justify_items": null,
            "left": null,
            "margin": null,
            "max_height": null,
            "max_width": null,
            "min_height": null,
            "min_width": null,
            "object_fit": null,
            "object_position": null,
            "order": null,
            "overflow": null,
            "overflow_x": null,
            "overflow_y": null,
            "padding": null,
            "right": null,
            "top": null,
            "visibility": null,
            "width": null
          }
        },
        "a11c1d767aed4f08b8e024475d9b5b04": {
          "model_module": "@jupyter-widgets/controls",
          "model_name": "DescriptionStyleModel",
          "model_module_version": "1.5.0",
          "state": {
            "_model_module": "@jupyter-widgets/controls",
            "_model_module_version": "1.5.0",
            "_model_name": "DescriptionStyleModel",
            "_view_count": null,
            "_view_module": "@jupyter-widgets/base",
            "_view_module_version": "1.2.0",
            "_view_name": "StyleView",
            "description_width": ""
          }
        },
        "27b11b6f238f42da91ef10104f6a84b1": {
          "model_module": "@jupyter-widgets/base",
          "model_name": "LayoutModel",
          "model_module_version": "1.2.0",
          "state": {
            "_model_module": "@jupyter-widgets/base",
            "_model_module_version": "1.2.0",
            "_model_name": "LayoutModel",
            "_view_count": null,
            "_view_module": "@jupyter-widgets/base",
            "_view_module_version": "1.2.0",
            "_view_name": "LayoutView",
            "align_content": null,
            "align_items": null,
            "align_self": null,
            "border": null,
            "bottom": null,
            "display": null,
            "flex": null,
            "flex_flow": null,
            "grid_area": null,
            "grid_auto_columns": null,
            "grid_auto_flow": null,
            "grid_auto_rows": null,
            "grid_column": null,
            "grid_gap": null,
            "grid_row": null,
            "grid_template_areas": null,
            "grid_template_columns": null,
            "grid_template_rows": null,
            "height": null,
            "justify_content": null,
            "justify_items": null,
            "left": null,
            "margin": null,
            "max_height": null,
            "max_width": null,
            "min_height": null,
            "min_width": null,
            "object_fit": null,
            "object_position": null,
            "order": null,
            "overflow": null,
            "overflow_x": null,
            "overflow_y": null,
            "padding": null,
            "right": null,
            "top": null,
            "visibility": null,
            "width": null
          }
        },
        "66c68f62617b4c3d847fde5b53d3d26b": {
          "model_module": "@jupyter-widgets/controls",
          "model_name": "ProgressStyleModel",
          "model_module_version": "1.5.0",
          "state": {
            "_model_module": "@jupyter-widgets/controls",
            "_model_module_version": "1.5.0",
            "_model_name": "ProgressStyleModel",
            "_view_count": null,
            "_view_module": "@jupyter-widgets/base",
            "_view_module_version": "1.2.0",
            "_view_name": "StyleView",
            "bar_color": null,
            "description_width": ""
          }
        },
        "8002f5cadb394700a49f5cb145dd0b1a": {
          "model_module": "@jupyter-widgets/base",
          "model_name": "LayoutModel",
          "model_module_version": "1.2.0",
          "state": {
            "_model_module": "@jupyter-widgets/base",
            "_model_module_version": "1.2.0",
            "_model_name": "LayoutModel",
            "_view_count": null,
            "_view_module": "@jupyter-widgets/base",
            "_view_module_version": "1.2.0",
            "_view_name": "LayoutView",
            "align_content": null,
            "align_items": null,
            "align_self": null,
            "border": null,
            "bottom": null,
            "display": null,
            "flex": null,
            "flex_flow": null,
            "grid_area": null,
            "grid_auto_columns": null,
            "grid_auto_flow": null,
            "grid_auto_rows": null,
            "grid_column": null,
            "grid_gap": null,
            "grid_row": null,
            "grid_template_areas": null,
            "grid_template_columns": null,
            "grid_template_rows": null,
            "height": null,
            "justify_content": null,
            "justify_items": null,
            "left": null,
            "margin": null,
            "max_height": null,
            "max_width": null,
            "min_height": null,
            "min_width": null,
            "object_fit": null,
            "object_position": null,
            "order": null,
            "overflow": null,
            "overflow_x": null,
            "overflow_y": null,
            "padding": null,
            "right": null,
            "top": null,
            "visibility": null,
            "width": null
          }
        },
        "9a87c2ff022547ecba73d916db3c5abe": {
          "model_module": "@jupyter-widgets/controls",
          "model_name": "DescriptionStyleModel",
          "model_module_version": "1.5.0",
          "state": {
            "_model_module": "@jupyter-widgets/controls",
            "_model_module_version": "1.5.0",
            "_model_name": "DescriptionStyleModel",
            "_view_count": null,
            "_view_module": "@jupyter-widgets/base",
            "_view_module_version": "1.2.0",
            "_view_name": "StyleView",
            "description_width": ""
          }
        }
      }
    }
  },
  "cells": [
    {
      "cell_type": "code",
      "execution_count": 1,
      "metadata": {
        "id": "vos8ORFrA-0P"
      },
      "outputs": [],
      "source": [
        "! pip install -Uq torch tensorboard sentence-transformers datasets transformers"
      ]
    },
    {
      "cell_type": "code",
      "source": [
        "import wandb\n",
        "wandb.init(mode=\"disabled\")"
      ],
      "metadata": {
        "colab": {
          "base_uri": "https://localhost:8080/",
          "height": 39
        },
        "id": "Tv6KE-G6V6LZ",
        "outputId": "ac402fde-d333-4eb1-c147-f92099ff2e63"
      },
      "execution_count": 2,
      "outputs": [
        {
          "output_type": "execute_result",
          "data": {
            "text/html": [
              "<button onClick=\"this.nextSibling.style.display='block';this.style.display='none';\">Display W&B run</button><iframe src='?jupyter=true' style='border:none;width:100%;height:420px;display:none;'></iframe>"
            ],
            "text/plain": [
              "<wandb.sdk.wandb_run.Run at 0x7d001702e230>"
            ]
          },
          "metadata": {},
          "execution_count": 2
        }
      ]
    },
    {
      "cell_type": "markdown",
      "source": [
        "#### **Create and Prepare embedding dataset**"
      ],
      "metadata": {
        "id": "_jlYwO8mBWI4"
      }
    },
    {
      "cell_type": "code",
      "source": [
        "from datasets import load_dataset\n",
        "\n",
        "dataset = load_dataset(\"philschmid/finanical-rag-embedding-dataset\", split=\"train\")\n",
        "dataset"
      ],
      "metadata": {
        "colab": {
          "base_uri": "https://localhost:8080/"
        },
        "id": "RAZEttOuBNx4",
        "outputId": "d1241ee4-3f7f-4d78-a94a-ac0627ce7a2c"
      },
      "execution_count": 3,
      "outputs": [
        {
          "output_type": "stream",
          "name": "stderr",
          "text": [
            "/usr/local/lib/python3.10/dist-packages/huggingface_hub/utils/_auth.py:86: UserWarning: \n",
            "Access to the secret `HF_TOKEN` has not been granted on this notebook.\n",
            "You will not be requested again.\n",
            "Please restart the session if you want to be prompted again.\n",
            "  warnings.warn(\n"
          ]
        },
        {
          "output_type": "execute_result",
          "data": {
            "text/plain": [
              "Dataset({\n",
              "    features: ['question', 'context'],\n",
              "    num_rows: 7000\n",
              "})"
            ]
          },
          "metadata": {},
          "execution_count": 3
        }
      ]
    },
    {
      "cell_type": "code",
      "source": [
        "# rename columns\n",
        "dataset = dataset.rename_column(\"question\", \"anchor\")\n",
        "dataset = dataset.rename_column(\"context\", \"positive\")"
      ],
      "metadata": {
        "id": "o6x-Kig-B9UH"
      },
      "execution_count": 4,
      "outputs": []
    },
    {
      "cell_type": "code",
      "source": [
        "# Add an id column to the dataset\n",
        "dataset = dataset.add_column(\"id\", range(len(dataset)))\n",
        "dataset"
      ],
      "metadata": {
        "colab": {
          "base_uri": "https://localhost:8080/"
        },
        "id": "54E8BEoCCN6_",
        "outputId": "3ab45ee3-2436-40cb-c1c8-2b8761e10e93"
      },
      "execution_count": 5,
      "outputs": [
        {
          "output_type": "execute_result",
          "data": {
            "text/plain": [
              "Dataset({\n",
              "    features: ['anchor', 'positive', 'id'],\n",
              "    num_rows: 7000\n",
              "})"
            ]
          },
          "metadata": {},
          "execution_count": 5
        }
      ]
    },
    {
      "cell_type": "code",
      "source": [
        "# Split dataset into a 10% test set\n",
        "dataset = dataset.train_test_split(test_size=0.1)\n",
        "dataset"
      ],
      "metadata": {
        "colab": {
          "base_uri": "https://localhost:8080/"
        },
        "id": "X9JR85l2CbWp",
        "outputId": "079116ff-42e7-4578-9d05-43e9bbcb184d"
      },
      "execution_count": 6,
      "outputs": [
        {
          "output_type": "execute_result",
          "data": {
            "text/plain": [
              "DatasetDict({\n",
              "    train: Dataset({\n",
              "        features: ['anchor', 'positive', 'id'],\n",
              "        num_rows: 6300\n",
              "    })\n",
              "    test: Dataset({\n",
              "        features: ['anchor', 'positive', 'id'],\n",
              "        num_rows: 700\n",
              "    })\n",
              "})"
            ]
          },
          "metadata": {},
          "execution_count": 6
        }
      ]
    },
    {
      "cell_type": "code",
      "source": [
        "# save datasets to disk\n",
        "dataset[\"train\"].to_json(\"train_dataset.json\", orient=\"records\")\n",
        "dataset[\"test\"].to_json(\"test_dataset.json\", orient=\"records\")"
      ],
      "metadata": {
        "colab": {
          "base_uri": "https://localhost:8080/",
          "height": 98,
          "referenced_widgets": [
            "2bcf23ff46264d1dbd2dddbe3a833718",
            "ddffdbd8d166499b9747063c56eb1f26",
            "b6e93f06368b47b3adf7cfac9e5f8421",
            "5de36fb481f5476c8a75a3477fa9699b",
            "efe2dd9f2e9a431482ad7fc44da83d44",
            "067de35e33fd4077aecc480830849bee",
            "e0c66156d690450d992af42953a80101",
            "2ccce5ebc6a14849a545bf807c422bc0",
            "9493d726e4774fa5a5319c681da054d9",
            "df2c15f0ba9940028adc5f3cff1bc50f",
            "73a64e4a83ac450aa8d1e45f1ff05f5d",
            "292c2783afe343d8806eeb3ef243c6bd",
            "adea438a7d794ec09f2d50cff5e5057b",
            "c35487e23c944b1bbded4ed0417dcbd4",
            "3162a197b141429f8b3ebde567063974",
            "e6189320bb4a4ab8beb9b13333ccd810",
            "7883f61f6a424854af626085cd6dd2f5",
            "8f3354f79f804624a018df5cadbb799e",
            "b17416c3773a4c799b4f5a220eea6020",
            "006b2111f6274d51874a2849f04218d5",
            "f7322cd286ae40eba36c6ccbf90f733f",
            "984c4eef142e4ca8bcdea3ad906e1e55"
          ]
        },
        "id": "xWUTL8-ICpLx",
        "outputId": "26448a85-ec52-453b-e75c-fc371e30edf2"
      },
      "execution_count": 7,
      "outputs": [
        {
          "output_type": "display_data",
          "data": {
            "text/plain": [
              "Creating json from Arrow format:   0%|          | 0/7 [00:00<?, ?ba/s]"
            ],
            "application/vnd.jupyter.widget-view+json": {
              "version_major": 2,
              "version_minor": 0,
              "model_id": "2bcf23ff46264d1dbd2dddbe3a833718"
            }
          },
          "metadata": {}
        },
        {
          "output_type": "display_data",
          "data": {
            "text/plain": [
              "Creating json from Arrow format:   0%|          | 0/1 [00:00<?, ?ba/s]"
            ],
            "application/vnd.jupyter.widget-view+json": {
              "version_major": 2,
              "version_minor": 0,
              "model_id": "292c2783afe343d8806eeb3ef243c6bd"
            }
          },
          "metadata": {}
        },
        {
          "output_type": "execute_result",
          "data": {
            "text/plain": [
              "249580"
            ]
          },
          "metadata": {},
          "execution_count": 7
        }
      ]
    },
    {
      "cell_type": "markdown",
      "source": [
        "#### **Create baseline and evaluate pretrained model**"
      ],
      "metadata": {
        "id": "4GoNKHRrDN3p"
      }
    },
    {
      "cell_type": "code",
      "source": [
        "import torch\n",
        "from sentence_transformers import SentenceTransformer\n",
        "from sentence_transformers.evaluation import InformationRetrievalEvaluator, SequentialEvaluator\n",
        "from sentence_transformers.util import cos_sim\n",
        "from datasets import load_dataset, concatenate_datasets\n",
        "\n",
        "model_id = \"BAAI/bge-small-en-v1.5\"\n",
        "matryoshka_dimensions = [384, 256, 128, 64]\n",
        "\n",
        "# Load a model\n",
        "model = SentenceTransformer(\n",
        "    model_id,\n",
        "    device=\"cuda\" if torch.cuda.is_available() else \"cpu\"\n",
        ")\n",
        "\n",
        "# load test dataset\n",
        "test_dataset = load_dataset(\"json\", data_files=\"test_dataset.json\", split=\"train\")\n",
        "train_dataset = load_dataset(\"json\", data_files=\"train_dataset.json\", split=\"train\")\n",
        "corpus_dataset = concatenate_datasets([train_dataset, test_dataset])\n",
        "\n",
        "corpus_dataset"
      ],
      "metadata": {
        "colab": {
          "base_uri": "https://localhost:8080/",
          "height": 150,
          "referenced_widgets": [
            "6be38cc9615747fdb99073be5eb300eb",
            "78e7192e9ccd405e8c36efcb63eb15b2",
            "41361a3370474433a19c47891cefc108",
            "b708cf56092d430485c156a829cb76d3",
            "004a12c72fb14b128bbf0e2e02ad3206",
            "9ca5f0a91d7b4faa9798a7a267c0254b",
            "d488ec03d3c64f66805051bd3af06c7e",
            "57dc818b981645a882ba7366ae1a8f3c",
            "d8e04000c57d49e3a5e8e7334590ffdc",
            "a9a9b98e19ae405d9c3f31fbb6a3ee6a",
            "e2ed165d6fc545bdb9f5293cafd1cae7",
            "88add640a18a4064bab78a1062d51646",
            "ef333624f9be4d4ab5040d987a02120e",
            "e4a24f31198b4f44bb63f1970d741af5",
            "4fea34c4708244ff88ffad7c83e22507",
            "ca177a39c7f444ff864603d796153238",
            "0e3c74326ffc4122b517facde5c52463",
            "88631e9464044258a23c75bb4c83fe7a",
            "5869304407e44361804e80571deffcf7",
            "214274d9b25e4f498438c1ae57e640c7",
            "74a8f10ab5ec4f0bb19e4e135f4c0434",
            "7bd1c158b5e4414daabfa573c6f2da9f"
          ]
        },
        "id": "KqOtozrgDKvH",
        "outputId": "fbc6b18e-a6af-4ac2-b734-1006c92f1f04"
      },
      "execution_count": 8,
      "outputs": [
        {
          "output_type": "display_data",
          "data": {
            "text/plain": [
              "Generating train split: 0 examples [00:00, ? examples/s]"
            ],
            "application/vnd.jupyter.widget-view+json": {
              "version_major": 2,
              "version_minor": 0,
              "model_id": "6be38cc9615747fdb99073be5eb300eb"
            }
          },
          "metadata": {}
        },
        {
          "output_type": "display_data",
          "data": {
            "text/plain": [
              "Generating train split: 0 examples [00:00, ? examples/s]"
            ],
            "application/vnd.jupyter.widget-view+json": {
              "version_major": 2,
              "version_minor": 0,
              "model_id": "88add640a18a4064bab78a1062d51646"
            }
          },
          "metadata": {}
        },
        {
          "output_type": "execute_result",
          "data": {
            "text/plain": [
              "Dataset({\n",
              "    features: ['anchor', 'positive', 'id'],\n",
              "    num_rows: 7000\n",
              "})"
            ]
          },
          "metadata": {},
          "execution_count": 8
        }
      ]
    },
    {
      "cell_type": "code",
      "source": [
        "# Convert the datasets to dictionaries\n",
        "corpus = dict(\n",
        "    zip(corpus_dataset[\"id\"], corpus_dataset[\"positive\"])\n",
        ") # Our corpus (cid => document)\n",
        "queries = dict(\n",
        "    zip(test_dataset[\"id\"], test_dataset[\"anchor\"])\n",
        ") # Our queries (qid => question)"
      ],
      "metadata": {
        "id": "3pdE7K4jHSky"
      },
      "execution_count": 9,
      "outputs": []
    },
    {
      "cell_type": "code",
      "source": [
        "# Create a mapping of relevant document (1 in our case) for each query\n",
        "relevant_docs = {}\n",
        "for q_id in queries:\n",
        "  relevant_docs[q_id] = [q_id]"
      ],
      "metadata": {
        "id": "Pfj09jsPIsns"
      },
      "execution_count": 10,
      "outputs": []
    },
    {
      "cell_type": "code",
      "source": [
        "matryoshka_evaluators = []\n",
        "# Iterate over the different dimensions\n",
        "for dim in matryoshka_dimensions:\n",
        "  ir_evaluator = InformationRetrievalEvaluator(\n",
        "      queries=queries,\n",
        "      corpus=corpus,\n",
        "      relevant_docs=relevant_docs,\n",
        "      name=f\"dim_{dim}\",\n",
        "      truncate_dim=dim,\n",
        "      score_functions={\"cosine\": cos_sim}\n",
        "  )\n",
        "  matryoshka_evaluators.append(ir_evaluator)\n",
        "\n",
        "# Create a sequential evaluator\n",
        "evaluator = SequentialEvaluator(matryoshka_evaluators)"
      ],
      "metadata": {
        "id": "qCZdGcu1J6NQ"
      },
      "execution_count": 11,
      "outputs": []
    },
    {
      "cell_type": "code",
      "source": [
        "# Evaluate the model\n",
        "results = evaluator(model)\n",
        "\n",
        "for dim in matryoshka_dimensions:\n",
        "  key = f\"dim_{dim}_cosine_ndcg@10\"\n",
        "  print(f\"{key}: {results[key]}\")"
      ],
      "metadata": {
        "colab": {
          "base_uri": "https://localhost:8080/"
        },
        "id": "JEF7LpCwMxnn",
        "outputId": "cd2bed0f-d1f3-47b4-e1d5-bd3a48abb7df"
      },
      "execution_count": 12,
      "outputs": [
        {
          "output_type": "stream",
          "name": "stdout",
          "text": [
            "dim_384_cosine_ndcg@10: 0.7313810593445129\n",
            "dim_256_cosine_ndcg@10: 0.7206317143378926\n",
            "dim_128_cosine_ndcg@10: 0.6851950767822297\n",
            "dim_64_cosine_ndcg@10: 0.6216422018474896\n"
          ]
        }
      ]
    },
    {
      "cell_type": "code",
      "source": [
        "# print the main score\n",
        "for dim in matryoshka_dimensions:\n",
        "  key = f\"dim_{dim}_cosine_recall@3\"\n",
        "  print(f\"{key}: {results[key]}\")"
      ],
      "metadata": {
        "colab": {
          "base_uri": "https://localhost:8080/"
        },
        "id": "tUtaXsBjXEG5",
        "outputId": "2aca5153-c1f1-4b96-e373-1f6f85454f89"
      },
      "execution_count": 13,
      "outputs": [
        {
          "output_type": "stream",
          "name": "stdout",
          "text": [
            "dim_384_cosine_recall@3: 0.75\n",
            "dim_256_cosine_recall@3: 0.7357142857142858\n",
            "dim_128_cosine_recall@3: 0.7057142857142857\n",
            "dim_64_cosine_recall@3: 0.6485714285714286\n"
          ]
        }
      ]
    },
    {
      "cell_type": "markdown",
      "source": [
        "#### **Define loss function with Matryoshka Representation**"
      ],
      "metadata": {
        "id": "RK2AgA-XOzN1"
      }
    },
    {
      "cell_type": "code",
      "source": [
        "from sentence_transformers import SentenceTransformer, SentenceTransformerModelCardData\n",
        "\n",
        "model_id = \"BAAI/bge-small-en-v1.5\"\n",
        "\n",
        "model = SentenceTransformer(\n",
        "    model_id,\n",
        "    model_kwargs={\"attn_implementation\": \"sdpa\"},\n",
        "    model_card_data=SentenceTransformerModelCardData(\n",
        "        language=\"en\",\n",
        "        license=\"apache-2.0\",\n",
        "        model_name=\"BGE base Financial Matryoshka\"\n",
        "    )\n",
        ")"
      ],
      "metadata": {
        "id": "dogaBoiSNYB9"
      },
      "execution_count": 14,
      "outputs": []
    },
    {
      "cell_type": "code",
      "source": [
        "from sentence_transformers.losses import MatryoshkaLoss, MultipleNegativesRankingLoss\n",
        "\n",
        "matryoshka_dimensions = [384, 256, 128, 64]\n",
        "inner_train_loss = MultipleNegativesRankingLoss(model)\n",
        "train_loss = MatryoshkaLoss(\n",
        "    model, inner_train_loss, matryoshka_dims=matryoshka_dimensions\n",
        ")"
      ],
      "metadata": {
        "id": "RkU2KuBbQHqE"
      },
      "execution_count": 15,
      "outputs": []
    },
    {
      "cell_type": "markdown",
      "source": [
        "#### **Fine-tune embedding model with** `SentenceTransformersTrainer`"
      ],
      "metadata": {
        "id": "st9kVcsLQ5A2"
      }
    },
    {
      "cell_type": "code",
      "source": [
        "from sentence_transformers import SentenceTransformerTrainingArguments\n",
        "from sentence_transformers.training_args import BatchSamplers\n",
        "\n",
        "train_dataset = load_dataset(\"json\", data_files=\"train_dataset.json\", split=\"train\")\n",
        "\n",
        "args = SentenceTransformerTrainingArguments(\n",
        "    output_dir=\"bge-small-financial-matryoshka\",\n",
        "    num_train_epochs=4,\n",
        "    per_device_train_batch_size=32,\n",
        "    gradient_accumulation_steps=4,\n",
        "    per_device_eval_batch_size=32,\n",
        "    warmup_ratio=0.1,\n",
        "    learning_rate=2e-5,\n",
        "    lr_scheduler_type=\"cosine\",\n",
        "    optim=\"adamw_torch_fused\",\n",
        "    fp16=True,\n",
        "    batch_sampler=BatchSamplers.NO_DUPLICATES,\n",
        "    eval_strategy=\"epoch\",\n",
        "    save_strategy=\"epoch\",\n",
        "    report_to=None,\n",
        "    logging_steps=10,\n",
        "    save_total_limit=3,\n",
        "    load_best_model_at_end=True,\n",
        "    metric_for_best_model=\"eval_dim_128_cosine_ndcg@10\",\n",
        ")"
      ],
      "metadata": {
        "id": "oisTjY5wQtue"
      },
      "execution_count": 16,
      "outputs": []
    },
    {
      "cell_type": "code",
      "source": [
        "from sentence_transformers import SentenceTransformerTrainer\n",
        "\n",
        "trainer = SentenceTransformerTrainer(\n",
        "    model=model, # bge-base-en-v1\n",
        "    args=args, # training arguments\n",
        "    train_dataset=train_dataset.select_columns(\n",
        "        [\"anchor\", \"positive\"]\n",
        "    ), # training dataset\n",
        "    loss=train_loss,\n",
        "    evaluator=evaluator\n",
        ")"
      ],
      "metadata": {
        "id": "exCaRnlxTQDI"
      },
      "execution_count": 17,
      "outputs": []
    },
    {
      "cell_type": "code",
      "source": [
        "trainer.train()"
      ],
      "metadata": {
        "colab": {
          "base_uri": "https://localhost:8080/",
          "height": 276,
          "referenced_widgets": [
            "01c007fc581f4624a882418948ce949c",
            "8245697ec30f4abebfee80e46d782f53",
            "a7765b87d87248a8a149ec24c1626d97",
            "f2730570a8f2477389cd023f800e4e09",
            "d74a37edbac54559b5944b4a808b0501",
            "5a877d449bf34cdbab2feaf5df35b675",
            "a11c1d767aed4f08b8e024475d9b5b04",
            "27b11b6f238f42da91ef10104f6a84b1",
            "66c68f62617b4c3d847fde5b53d3d26b",
            "8002f5cadb394700a49f5cb145dd0b1a",
            "9a87c2ff022547ecba73d916db3c5abe"
          ]
        },
        "id": "HHsybW4kTzjq",
        "outputId": "ab1bd6c4-56ef-4481-de8c-728d3d9125f5"
      },
      "execution_count": 18,
      "outputs": [
        {
          "output_type": "stream",
          "name": "stderr",
          "text": [
            "\u001b[34m\u001b[1mwandb\u001b[0m: \u001b[33mWARNING\u001b[0m The `run_name` is currently set to the same value as `TrainingArguments.output_dir`. If this was not intended, please specify a different run name by setting the `TrainingArguments.run_name` parameter.\n"
          ]
        },
        {
          "output_type": "display_data",
          "data": {
            "text/plain": [
              "<IPython.core.display.HTML object>"
            ],
            "text/html": [
              "\n",
              "    <div>\n",
              "      \n",
              "      <progress value='196' max='196' style='width:300px; height:20px; vertical-align: middle;'></progress>\n",
              "      [196/196 03:09, Epoch 3/4]\n",
              "    </div>\n",
              "    <table border=\"1\" class=\"dataframe\">\n",
              "  <thead>\n",
              " <tr style=\"text-align: left;\">\n",
              "      <th>Epoch</th>\n",
              "      <th>Training Loss</th>\n",
              "      <th>Validation Loss</th>\n",
              "      <th>Dim 384 Cosine Accuracy@1</th>\n",
              "      <th>Dim 384 Cosine Accuracy@3</th>\n",
              "      <th>Dim 384 Cosine Accuracy@5</th>\n",
              "      <th>Dim 384 Cosine Accuracy@10</th>\n",
              "      <th>Dim 384 Cosine Precision@1</th>\n",
              "      <th>Dim 384 Cosine Precision@3</th>\n",
              "      <th>Dim 384 Cosine Precision@5</th>\n",
              "      <th>Dim 384 Cosine Precision@10</th>\n",
              "      <th>Dim 384 Cosine Recall@1</th>\n",
              "      <th>Dim 384 Cosine Recall@3</th>\n",
              "      <th>Dim 384 Cosine Recall@5</th>\n",
              "      <th>Dim 384 Cosine Recall@10</th>\n",
              "      <th>Dim 384 Cosine Ndcg@10</th>\n",
              "      <th>Dim 384 Cosine Mrr@10</th>\n",
              "      <th>Dim 384 Cosine Map@100</th>\n",
              "      <th>Dim 256 Cosine Accuracy@1</th>\n",
              "      <th>Dim 256 Cosine Accuracy@3</th>\n",
              "      <th>Dim 256 Cosine Accuracy@5</th>\n",
              "      <th>Dim 256 Cosine Accuracy@10</th>\n",
              "      <th>Dim 256 Cosine Precision@1</th>\n",
              "      <th>Dim 256 Cosine Precision@3</th>\n",
              "      <th>Dim 256 Cosine Precision@5</th>\n",
              "      <th>Dim 256 Cosine Precision@10</th>\n",
              "      <th>Dim 256 Cosine Recall@1</th>\n",
              "      <th>Dim 256 Cosine Recall@3</th>\n",
              "      <th>Dim 256 Cosine Recall@5</th>\n",
              "      <th>Dim 256 Cosine Recall@10</th>\n",
              "      <th>Dim 256 Cosine Ndcg@10</th>\n",
              "      <th>Dim 256 Cosine Mrr@10</th>\n",
              "      <th>Dim 256 Cosine Map@100</th>\n",
              "      <th>Dim 128 Cosine Accuracy@1</th>\n",
              "      <th>Dim 128 Cosine Accuracy@3</th>\n",
              "      <th>Dim 128 Cosine Accuracy@5</th>\n",
              "      <th>Dim 128 Cosine Accuracy@10</th>\n",
              "      <th>Dim 128 Cosine Precision@1</th>\n",
              "      <th>Dim 128 Cosine Precision@3</th>\n",
              "      <th>Dim 128 Cosine Precision@5</th>\n",
              "      <th>Dim 128 Cosine Precision@10</th>\n",
              "      <th>Dim 128 Cosine Recall@1</th>\n",
              "      <th>Dim 128 Cosine Recall@3</th>\n",
              "      <th>Dim 128 Cosine Recall@5</th>\n",
              "      <th>Dim 128 Cosine Recall@10</th>\n",
              "      <th>Dim 128 Cosine Ndcg@10</th>\n",
              "      <th>Dim 128 Cosine Mrr@10</th>\n",
              "      <th>Dim 128 Cosine Map@100</th>\n",
              "      <th>Dim 64 Cosine Accuracy@1</th>\n",
              "      <th>Dim 64 Cosine Accuracy@3</th>\n",
              "      <th>Dim 64 Cosine Accuracy@5</th>\n",
              "      <th>Dim 64 Cosine Accuracy@10</th>\n",
              "      <th>Dim 64 Cosine Precision@1</th>\n",
              "      <th>Dim 64 Cosine Precision@3</th>\n",
              "      <th>Dim 64 Cosine Precision@5</th>\n",
              "      <th>Dim 64 Cosine Precision@10</th>\n",
              "      <th>Dim 64 Cosine Recall@1</th>\n",
              "      <th>Dim 64 Cosine Recall@3</th>\n",
              "      <th>Dim 64 Cosine Recall@5</th>\n",
              "      <th>Dim 64 Cosine Recall@10</th>\n",
              "      <th>Dim 64 Cosine Ndcg@10</th>\n",
              "      <th>Dim 64 Cosine Mrr@10</th>\n",
              "      <th>Dim 64 Cosine Map@100</th>\n",
              "      <th>Sequential Score</th>\n",
              "    </tr>\n",
              "  </thead>\n",
              "  <tbody>\n",
              "    <tr>\n",
              "      <td>1</td>\n",
              "      <td>0.573200</td>\n",
              "      <td>No log</td>\n",
              "      <td>0.700000</td>\n",
              "      <td>0.830000</td>\n",
              "      <td>0.870000</td>\n",
              "      <td>0.912857</td>\n",
              "      <td>0.700000</td>\n",
              "      <td>0.276667</td>\n",
              "      <td>0.174000</td>\n",
              "      <td>0.091286</td>\n",
              "      <td>0.700000</td>\n",
              "      <td>0.830000</td>\n",
              "      <td>0.870000</td>\n",
              "      <td>0.912857</td>\n",
              "      <td>0.807403</td>\n",
              "      <td>0.773543</td>\n",
              "      <td>0.777283</td>\n",
              "      <td>0.695714</td>\n",
              "      <td>0.834286</td>\n",
              "      <td>0.865714</td>\n",
              "      <td>0.914286</td>\n",
              "      <td>0.695714</td>\n",
              "      <td>0.278095</td>\n",
              "      <td>0.173143</td>\n",
              "      <td>0.091429</td>\n",
              "      <td>0.695714</td>\n",
              "      <td>0.834286</td>\n",
              "      <td>0.865714</td>\n",
              "      <td>0.914286</td>\n",
              "      <td>0.805622</td>\n",
              "      <td>0.770772</td>\n",
              "      <td>0.774210</td>\n",
              "      <td>0.668571</td>\n",
              "      <td>0.817143</td>\n",
              "      <td>0.865714</td>\n",
              "      <td>0.910000</td>\n",
              "      <td>0.668571</td>\n",
              "      <td>0.272381</td>\n",
              "      <td>0.173143</td>\n",
              "      <td>0.091000</td>\n",
              "      <td>0.668571</td>\n",
              "      <td>0.817143</td>\n",
              "      <td>0.865714</td>\n",
              "      <td>0.910000</td>\n",
              "      <td>0.791904</td>\n",
              "      <td>0.753863</td>\n",
              "      <td>0.756971</td>\n",
              "      <td>0.650000</td>\n",
              "      <td>0.790000</td>\n",
              "      <td>0.835714</td>\n",
              "      <td>0.882857</td>\n",
              "      <td>0.650000</td>\n",
              "      <td>0.263333</td>\n",
              "      <td>0.167143</td>\n",
              "      <td>0.088286</td>\n",
              "      <td>0.650000</td>\n",
              "      <td>0.790000</td>\n",
              "      <td>0.835714</td>\n",
              "      <td>0.882857</td>\n",
              "      <td>0.767615</td>\n",
              "      <td>0.730626</td>\n",
              "      <td>0.735213</td>\n",
              "      <td>0.767615</td>\n",
              "    </tr>\n",
              "    <tr>\n",
              "      <td>2</td>\n",
              "      <td>0.347900</td>\n",
              "      <td>No log</td>\n",
              "      <td>0.708571</td>\n",
              "      <td>0.834286</td>\n",
              "      <td>0.878571</td>\n",
              "      <td>0.928571</td>\n",
              "      <td>0.708571</td>\n",
              "      <td>0.278095</td>\n",
              "      <td>0.175714</td>\n",
              "      <td>0.092857</td>\n",
              "      <td>0.708571</td>\n",
              "      <td>0.834286</td>\n",
              "      <td>0.878571</td>\n",
              "      <td>0.928571</td>\n",
              "      <td>0.818490</td>\n",
              "      <td>0.783389</td>\n",
              "      <td>0.786131</td>\n",
              "      <td>0.707143</td>\n",
              "      <td>0.840000</td>\n",
              "      <td>0.877143</td>\n",
              "      <td>0.924286</td>\n",
              "      <td>0.707143</td>\n",
              "      <td>0.280000</td>\n",
              "      <td>0.175429</td>\n",
              "      <td>0.092429</td>\n",
              "      <td>0.707143</td>\n",
              "      <td>0.840000</td>\n",
              "      <td>0.877143</td>\n",
              "      <td>0.924286</td>\n",
              "      <td>0.816512</td>\n",
              "      <td>0.781956</td>\n",
              "      <td>0.784855</td>\n",
              "      <td>0.685714</td>\n",
              "      <td>0.824286</td>\n",
              "      <td>0.874286</td>\n",
              "      <td>0.914286</td>\n",
              "      <td>0.685714</td>\n",
              "      <td>0.274762</td>\n",
              "      <td>0.174857</td>\n",
              "      <td>0.091429</td>\n",
              "      <td>0.685714</td>\n",
              "      <td>0.824286</td>\n",
              "      <td>0.874286</td>\n",
              "      <td>0.914286</td>\n",
              "      <td>0.802437</td>\n",
              "      <td>0.766405</td>\n",
              "      <td>0.769516</td>\n",
              "      <td>0.667143</td>\n",
              "      <td>0.795714</td>\n",
              "      <td>0.837143</td>\n",
              "      <td>0.892857</td>\n",
              "      <td>0.667143</td>\n",
              "      <td>0.265238</td>\n",
              "      <td>0.167429</td>\n",
              "      <td>0.089286</td>\n",
              "      <td>0.667143</td>\n",
              "      <td>0.795714</td>\n",
              "      <td>0.837143</td>\n",
              "      <td>0.892857</td>\n",
              "      <td>0.780259</td>\n",
              "      <td>0.744257</td>\n",
              "      <td>0.748522</td>\n",
              "      <td>0.780259</td>\n",
              "    </tr>\n",
              "    <tr>\n",
              "      <td>3</td>\n",
              "      <td>0.223000</td>\n",
              "      <td>No log</td>\n",
              "      <td>0.714286</td>\n",
              "      <td>0.840000</td>\n",
              "      <td>0.880000</td>\n",
              "      <td>0.924286</td>\n",
              "      <td>0.714286</td>\n",
              "      <td>0.280000</td>\n",
              "      <td>0.176000</td>\n",
              "      <td>0.092429</td>\n",
              "      <td>0.714286</td>\n",
              "      <td>0.840000</td>\n",
              "      <td>0.880000</td>\n",
              "      <td>0.924286</td>\n",
              "      <td>0.819920</td>\n",
              "      <td>0.786435</td>\n",
              "      <td>0.789663</td>\n",
              "      <td>0.708571</td>\n",
              "      <td>0.847143</td>\n",
              "      <td>0.880000</td>\n",
              "      <td>0.928571</td>\n",
              "      <td>0.708571</td>\n",
              "      <td>0.282381</td>\n",
              "      <td>0.176000</td>\n",
              "      <td>0.092857</td>\n",
              "      <td>0.708571</td>\n",
              "      <td>0.847143</td>\n",
              "      <td>0.880000</td>\n",
              "      <td>0.928571</td>\n",
              "      <td>0.818789</td>\n",
              "      <td>0.783645</td>\n",
              "      <td>0.786313</td>\n",
              "      <td>0.695714</td>\n",
              "      <td>0.830000</td>\n",
              "      <td>0.875714</td>\n",
              "      <td>0.915714</td>\n",
              "      <td>0.695714</td>\n",
              "      <td>0.276667</td>\n",
              "      <td>0.175143</td>\n",
              "      <td>0.091571</td>\n",
              "      <td>0.695714</td>\n",
              "      <td>0.830000</td>\n",
              "      <td>0.875714</td>\n",
              "      <td>0.915714</td>\n",
              "      <td>0.806570</td>\n",
              "      <td>0.771575</td>\n",
              "      <td>0.774683</td>\n",
              "      <td>0.674286</td>\n",
              "      <td>0.798571</td>\n",
              "      <td>0.850000</td>\n",
              "      <td>0.902857</td>\n",
              "      <td>0.674286</td>\n",
              "      <td>0.266190</td>\n",
              "      <td>0.170000</td>\n",
              "      <td>0.090286</td>\n",
              "      <td>0.674286</td>\n",
              "      <td>0.798571</td>\n",
              "      <td>0.850000</td>\n",
              "      <td>0.902857</td>\n",
              "      <td>0.786572</td>\n",
              "      <td>0.749632</td>\n",
              "      <td>0.753260</td>\n",
              "      <td>0.786572</td>\n",
              "    </tr>\n",
              "  </tbody>\n",
              "</table><p>"
            ]
          },
          "metadata": {}
        },
        {
          "output_type": "display_data",
          "data": {
            "text/plain": [
              "Computing widget examples:   0%|          | 0/1 [00:00<?, ?example/s]"
            ],
            "application/vnd.jupyter.widget-view+json": {
              "version_major": 2,
              "version_minor": 0,
              "model_id": "01c007fc581f4624a882418948ce949c"
            }
          },
          "metadata": {}
        },
        {
          "output_type": "execute_result",
          "data": {
            "text/plain": [
              "TrainOutput(global_step=196, training_loss=0.5800437744782896, metrics={'train_runtime': 190.4803, 'train_samples_per_second': 132.297, 'train_steps_per_second': 1.029, 'total_flos': 0.0, 'train_loss': 0.5800437744782896, 'epoch': 3.934010152284264})"
            ]
          },
          "metadata": {},
          "execution_count": 18
        }
      ]
    },
    {
      "cell_type": "code",
      "source": [
        "# save the best model\n",
        "trainer.save_model()"
      ],
      "metadata": {
        "id": "yk19N8f0UYdm"
      },
      "execution_count": 19,
      "outputs": []
    },
    {
      "cell_type": "code",
      "source": [
        "# # push model to hub\n",
        "# trainer.model.push_to_hub(\"bge-base-financial-matryoshka\")"
      ],
      "metadata": {
        "id": "YObt3cGvYsb4"
      },
      "execution_count": 20,
      "outputs": []
    },
    {
      "cell_type": "markdown",
      "source": [
        "#### **Evaluate fine-tuned model against baseline**"
      ],
      "metadata": {
        "id": "KScLm3RGY0HF"
      }
    },
    {
      "cell_type": "code",
      "source": [
        "from sentence_transformers import SentenceTransformer\n",
        "\n",
        "fine_tuned_model = SentenceTransformer(\n",
        "    args.output_dir, device=\"cuda\" if torch.cuda.is_available() else \"cpu\"\n",
        ")\n",
        "\n",
        "# Evaluate the model\n",
        "results = evaluator(fine_tuned_model)\n",
        "\n",
        "# print the main score\n",
        "for dim in matryoshka_dimensions:\n",
        "  key = f\"dim_{dim}_cosine_ndcg@10\"\n",
        "  print(f\"{key}: {results[key]}\")"
      ],
      "metadata": {
        "colab": {
          "base_uri": "https://localhost:8080/"
        },
        "id": "CX0iVR8WYxcV",
        "outputId": "d0aa3d09-cff2-4580-8745-c16a699089e1"
      },
      "execution_count": 21,
      "outputs": [
        {
          "output_type": "stream",
          "name": "stdout",
          "text": [
            "dim_384_cosine_ndcg@10: 0.8201867514286008\n",
            "dim_256_cosine_ndcg@10: 0.8186903238351805\n",
            "dim_128_cosine_ndcg@10: 0.8067524207279965\n",
            "dim_64_cosine_ndcg@10: 0.7863462473274174\n"
          ]
        }
      ]
    },
    {
      "cell_type": "code",
      "source": [
        "# print the main score\n",
        "for dim in matryoshka_dimensions:\n",
        "  key = f\"dim_{dim}_cosine_recall@3\"\n",
        "  print(f\"{key}: {results[key]}\")"
      ],
      "metadata": {
        "colab": {
          "base_uri": "https://localhost:8080/"
        },
        "id": "tzUMk3O4W58E",
        "outputId": "1a47d607-ce6f-4b94-9507-cd501c127ef6"
      },
      "execution_count": 22,
      "outputs": [
        {
          "output_type": "stream",
          "name": "stdout",
          "text": [
            "dim_384_cosine_recall@3: 0.8371428571428572\n",
            "dim_256_cosine_recall@3: 0.8457142857142858\n",
            "dim_128_cosine_recall@3: 0.8314285714285714\n",
            "dim_64_cosine_recall@3: 0.7985714285714286\n"
          ]
        }
      ]
    },
    {
      "cell_type": "code",
      "source": [
        "model"
      ],
      "metadata": {
        "colab": {
          "base_uri": "https://localhost:8080/"
        },
        "id": "Zu3emzlmZ6v0",
        "outputId": "744a7cd4-9f76-4dee-a040-34f951513097"
      },
      "execution_count": 23,
      "outputs": [
        {
          "output_type": "execute_result",
          "data": {
            "text/plain": [
              "SentenceTransformer(\n",
              "  (0): Transformer({'max_seq_length': 512, 'do_lower_case': True}) with Transformer model: BertModel \n",
              "  (1): Pooling({'word_embedding_dimension': 384, 'pooling_mode_cls_token': True, 'pooling_mode_mean_tokens': False, 'pooling_mode_max_tokens': False, 'pooling_mode_mean_sqrt_len_tokens': False, 'pooling_mode_weightedmean_tokens': False, 'pooling_mode_lasttoken': False, 'include_prompt': True})\n",
              "  (2): Normalize()\n",
              ")"
            ]
          },
          "metadata": {},
          "execution_count": 23
        }
      ]
    },
    {
      "cell_type": "code",
      "source": [],
      "metadata": {
        "id": "Wt8j2nlO4Hyk"
      },
      "execution_count": 26,
      "outputs": []
    }
  ]
}